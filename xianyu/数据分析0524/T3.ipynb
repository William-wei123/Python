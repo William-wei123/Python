{
 "cells": [
  {
   "cell_type": "markdown",
   "id": "4177012b",
   "metadata": {},
   "source": [
    "# Titanic数据为Titanic号乘客的信息，包括姓名、仓位等级等信息。请结合可视化结3果和统计分析结果，回答以下问题:"
   ]
  },
  {
   "cell_type": "markdown",
   "id": "7b1650bb",
   "metadata": {},
   "source": [
    "## (1) 每个等级的仓库里分别有多少女性和男性乘客? "
   ]
  },
  {
   "cell_type": "code",
   "execution_count": 30,
   "id": "2cc18609",
   "metadata": {},
   "outputs": [
    {
     "name": "stdout",
     "output_type": "stream",
     "text": [
      "Pclass  Sex   \n",
      "1       female     94\n",
      "        male      122\n",
      "2       female     76\n",
      "        male      108\n",
      "3       female    144\n",
      "        male      347\n",
      "dtype: int64\n"
     ]
    },
    {
     "data": {
      "text/plain": [
       "<matplotlib.axes._subplots.AxesSubplot at 0x29876fad520>"
      ]
     },
     "execution_count": 30,
     "metadata": {},
     "output_type": "execute_result"
    },
    {
     "data": {
      "image/png": "[encoded data removed]",
      "text/plain": [
       "<Figure size 432x288 with 1 Axes>"
      ]
     },
     "metadata": {},
     "output_type": "display_data"
    }
   ],
   "source": [
    "import pandas as pd\n",
    "import matplotlib.pyplot as plt\n",
    "import seaborn as sns\n",
    "#解决不显示中文的问题\n",
    "plt.rcParams['font.sans-serif']=['Simhei']\n",
    "\n",
    "# 读取csv文件\n",
    "data_f = r'data\\Titanic.csv'\n",
    "df = pd.read_csv(data_f)\n",
    "\n",
    "# 按Pclass和Sex进行分组并计算每组大小\n",
    "result = df.groupby(['Pclass', 'Sex']).size()\n",
    "\n",
    "# 打印结果\n",
    "print(result)\n",
    "\n",
    "# result.plot(kind='bar')\n",
    "# print('ccc')\n",
    "result.plot(kind='pie')"
   ]
  },
  {
   "cell_type": "markdown",
   "id": "3107eff4",
   "metadata": {},
   "source": [
    "## (2) 请问不同等级仓库的乘客，生还情况如何?(5分)是否有显著差别? (10分)"
   ]
  },
  {
   "cell_type": "code",
   "execution_count": 31,
   "id": "bb9a399f",
   "metadata": {},
   "outputs": [
    {
     "name": "stdout",
     "output_type": "stream",
     "text": [
      "Survived    0    1\n",
      "Pclass            \n",
      "1          80  136\n",
      "2          97   87\n",
      "3         372  119\n"
     ]
    },
    {
     "data": {
      "text/plain": [
       "<matplotlib.axes._subplots.AxesSubplot at 0x29875d76940>"
      ]
     },
     "execution_count": 31,
     "metadata": {},
     "output_type": "execute_result"
    },
    {
     "data": {
      "image/png": "[encoded data removed]",
      "text/plain": [
       "<Figure size 432x288 with 1 Axes>"
      ]
     },
     "metadata": {
      "needs_background": "light"
     },
     "output_type": "display_data"
    }
   ],
   "source": [
    "# 生成交叉表,展示不同等级的乘客生还情况\n",
    "result = pd.crosstab(df.Pclass, df.Survived)\n",
    "\n",
    "# 打印结果\n",
    "print(result)\n",
    "\n",
    "result.plot(kind='bar')"
   ]
  },
  {
   "cell_type": "markdown",
   "id": "47f2e298",
   "metadata": {},
   "source": [
    "这个输出展示了不同等级仓位的乘客生还情况，其中0代表未生还，1代表生还。例如，一等舱中有1人未生还，2人生还。根据交叉表可以看出，不同等级的乘客生还率存在一定的差异。\n",
    "\n",
    "为了验证是否存在显著差别，可以使用卡方检验。卡方检验是用来验证样本的观察频数与理论频数是否相符的统计方法。通俗地讲，就是用来检验两个变量之间是否有关联性。"
   ]
  },
  {
   "cell_type": "code",
   "execution_count": 32,
   "id": "70d357ae",
   "metadata": {},
   "outputs": [
    {
     "name": "stdout",
     "output_type": "stream",
     "text": [
      "4.549251711298793e-23\n"
     ]
    },
    {
     "data": {
      "text/plain": [
       "<matplotlib.axes._subplots.AxesSubplot at 0x29875da2340>"
      ]
     },
     "execution_count": 32,
     "metadata": {},
     "output_type": "execute_result"
    },
    {
     "data": {
      "image/png": "[encoded data removed]",
      "text/plain": [
       "<Figure size 432x288 with 2 Axes>"
      ]
     },
     "metadata": {
      "needs_background": "light"
     },
     "output_type": "display_data"
    }
   ],
   "source": [
    "from scipy.stats import chi2_contingency\n",
    "# 进行卡方检验\n",
    "chi2, p, dof, expected = chi2_contingency(result)\n",
    "\n",
    "# 打印p值\n",
    "print(p)\n",
    "\n",
    "# 生成热力图\n",
    "sns.heatmap(expected, annot=True)\n",
    "\n",
    "\n"
   ]
  },
  {
   "cell_type": "markdown",
   "id": "8c629953",
   "metadata": {},
   "source": [
    "p值表示两个变量之间关联性的显著性程度。如果p值小于某个显著性水平（通常为0.05），则可以认为两个变量有显著关联性；否则，不能认为它们之间存在显著关联性。在这个例子中，p值为4.549251711298793e-23小于0.05，因此可以认为不同等级仓库的乘客生还情况存在显著差别。\n",
    "\n",
    "得到一个热力图，其中x轴表示生还情况（Survived），y轴表示乘客等级（Pclass）。颜色越深表示数值越大。在这里，颜色越深表示该组内预期值越大。\n",
    "可以根据需要调整图表的属性以及显示方式。例如，也可以使用annot参数控制是否在单元格中显示数值。"
   ]
  },
  {
   "cell_type": "markdown",
   "id": "2b93582a",
   "metadata": {},
   "source": [
    "## (3)影响乘客生还情况的因素有哪些? (10分)"
   ]
  },
  {
   "cell_type": "code",
   "execution_count": 33,
   "id": "416cf20c",
   "metadata": {},
   "outputs": [
    {
     "name": "stdout",
     "output_type": "stream",
     "text": [
      "             PassengerId  Survived    Pclass       Age     SibSp     Parch  \\\n",
      "PassengerId     1.000000 -0.005007 -0.035144  0.036847 -0.057527 -0.001652   \n",
      "Survived       -0.005007  1.000000 -0.338481 -0.077221 -0.035322  0.081629   \n",
      "Pclass         -0.035144 -0.338481  1.000000 -0.369226  0.083081  0.018443   \n",
      "Age             0.036847 -0.077221 -0.369226  1.000000 -0.308247 -0.189119   \n",
      "SibSp          -0.057527 -0.035322  0.083081 -0.308247  1.000000  0.414838   \n",
      "Parch          -0.001652  0.081629  0.018443 -0.189119  0.414838  1.000000   \n",
      "Fare            0.012658  0.257307 -0.549500  0.096067  0.159651  0.216225   \n",
      "Income          0.017046  0.212745 -0.606963  0.243464 -0.060742  0.023631   \n",
      "\n",
      "                 Fare    Income  \n",
      "PassengerId  0.012658  0.017046  \n",
      "Survived     0.257307  0.212745  \n",
      "Pclass      -0.549500 -0.606963  \n",
      "Age          0.096067  0.243464  \n",
      "SibSp        0.159651 -0.060742  \n",
      "Parch        0.216225  0.023631  \n",
      "Fare         1.000000  0.307142  \n",
      "Income       0.307142  1.000000  \n"
     ]
    }
   ],
   "source": [
    "# 计算皮尔逊相关系数\n",
    "corr = df.corr()\n",
    "print(corr)"
   ]
  },
  {
   "cell_type": "markdown",
   "id": "e14f4b5b",
   "metadata": {},
   "source": [
    "Parch  、Fare和Income相关系数为正，有一点的相关性，其中"
   ]
  },
  {
   "cell_type": "markdown",
   "id": "6647a921",
   "metadata": {},
   "source": [
    "## (4)基于titanic_passenger_list中的乘客信息，，1-891号乘客的国别分布情况如何?(10分)"
   ]
  },
  {
   "cell_type": "code",
   "execution_count": 34,
   "id": "13ff5765",
   "metadata": {},
   "outputs": [
    {
     "name": "stdout",
     "output_type": "stream",
     "text": [
      "England                  224\n",
      "United States            182\n",
      "Ireland                  101\n",
      "Sweden                    86\n",
      "Lebanon                   47\n",
      "Finland                   38\n",
      "Canada                    29\n",
      "Norway                    21\n",
      "France                    20\n",
      "Scotland                  12\n",
      "Bulgaria                  12\n",
      "Switzerland               12\n",
      "Croatia (Modern)          12\n",
      "India                      7\n",
      "Spain                      7\n",
      "Channel Islands            7\n",
      "Denmark                    7\n",
      "Argentina                  7\n",
      "Belgium                    6\n",
      "Hungary                    6\n",
      "Croatia                    5\n",
      "South Africa               5\n",
      "Italy                      4\n",
      "Wales                      4\n",
      "Slovenia                   3\n",
      "Russia                     2\n",
      "Germany                    2\n",
      "Turkey                     2\n",
      "Greece                     2\n",
      "Siam                       2\n",
      "Australia                  2\n",
      "Uruguay                    2\n",
      "Bosnia                     2\n",
      "Japan                      1\n",
      "Syria                      1\n",
      "Egypt                      1\n",
      "Peru                       1\n",
      "Poland                     1\n",
      "China/Hong Kong            1\n",
      "Austria                    1\n",
      "Latvia                     1\n",
      "Yugoslavia                 1\n",
      "Slovakia (Modern day)      1\n",
      "Cuba                       1\n",
      "Name: country, dtype: int64\n"
     ]
    },
    {
     "data": {
      "text/plain": [
       "<matplotlib.axes._subplots.AxesSubplot at 0x29875d9c4c0>"
      ]
     },
     "execution_count": 34,
     "metadata": {},
     "output_type": "execute_result"
    },
    {
     "data": {
      "image/png": "[encoded data removed]",
      "text/plain": [
       "<Figure size 432x288 with 1 Axes>"
      ]
     },
     "metadata": {
      "needs_background": "light"
     },
     "output_type": "display_data"
    }
   ],
   "source": [
    "# 读取csv文件\n",
    "data_2 = r'data\\titanic_passgener_list.csv'\n",
    "df = pd.read_csv(data_2, encoding=\"ANSI\")\n",
    "result = df.loc[1:891, 'country'].value_counts()\n",
    "\n",
    "# 打印结果\n",
    "print(result)\n",
    "result.plot(kind='bar')"
   ]
  }
 ],
 "metadata": {
  "kernelspec": {
   "display_name": "Python 3 (ipykernel)",
   "language": "python",
   "name": "python3"
  },
  "language_info": {
   "codemirror_mode": {
    "name": "ipython",
    "version": 3
   },
   "file_extension": ".py",
   "mimetype": "text/x-python",
   "name": "python",
   "nbconvert_exporter": "python",
   "pygments_lexer": "ipython3",
   "version": "3.9.7"
  }
 },
 "nbformat": 4,
 "nbformat_minor": 5
}
